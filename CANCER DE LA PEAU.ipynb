{
 "cells": [
  {
   "cell_type": "markdown",
   "id": "fb22c038",
   "metadata": {
    "tags": []
   },
   "source": [
    "## IMPORTATION DE BIBLIOTHEQUES ESSENTIELLES."
   ]
  },
  {
   "cell_type": "code",
   "execution_count": null,
   "id": "9771d529",
   "metadata": {
    "tags": []
   },
   "outputs": [],
   "source": [
    "import numpy as np \n",
    "import pandas as pd\n",
    "from sklearn.metrics import classification_report\n",
    "import seaborn as sns\n",
    "import matplotlib.pyplot as plt\n",
    "from PIL import Image\n",
    "from matplotlib.image import imread\n",
    "import os\n",
    "from os import getcwd\n",
    "import random\n",
    "from pickle import load,dump\n",
    "import cv2\n",
    "from skimage.transform import resize\n",
    "from tensorflow.keras.preprocessing.image import ImageDataGenerator\n",
    "from tensorflow import keras\n",
    "from keras.models import Sequential, Model,load_model\n",
    "from keras.layers import Conv2D, MaxPooling2D, AveragePooling2D\n",
    "from keras.layers import Activation, Dropout,  Flatten, Dense,MaxPool2D"
   ]
  },
  {
   "cell_type": "markdown",
   "id": "38349a64",
   "metadata": {},
   "source": [
    "## CHARGEMENT DE NOTRE DATASET; LES DONNÉES D'ENTRAINEMENT ET TEST."
   ]
  },
  {
   "cell_type": "code",
   "execution_count": null,
   "id": "e15cd97d",
   "metadata": {
    "tags": []
   },
   "outputs": [],
   "source": [
    "data_path = 'mélanome_cancer_dataset/'\n",
    "train_path = 'mélanome_cancer_dataset/entrainement/'\n",
    "test_path = 'mélanome_cancer_dataset/test/'\n",
    "print(\"Nos deux classes différentes de cancer de la peau sont:\", os.listdir(train_path))"
   ]
  },
  {
   "cell_type": "markdown",
   "id": "6c2d9767",
   "metadata": {},
   "source": [
    "## AFFICHAGE D'UN ECHANTILLON DE LA CLASSE BENIN DU CANCER DE LA PEAU."
   ]
  },
  {
   "cell_type": "code",
   "execution_count": null,
   "id": "f7580896",
   "metadata": {},
   "outputs": [],
   "source": [
    "benign_sample = imread(train_path+\"/benin\"+\"/melanoma_4.jpg\")\n",
    "plt.imshow(benign_sample)\n",
    "plt.suptitle('Echantillon benin', fontsize=16, weight='bold');"
   ]
  },
  {
   "cell_type": "markdown",
   "id": "96807e43",
   "metadata": {},
   "source": [
    "## AFFICHAGE D'UN ECHANTILLON DE LA CLASSE MALIN DU CANCER DE LA PEAU."
   ]
  },
  {
   "cell_type": "code",
   "execution_count": null,
   "id": "3b8c2f1d",
   "metadata": {
    "tags": []
   },
   "outputs": [],
   "source": [
    "malignant_sample = imread(train_path+\"/malin\"+\"/melanoma_5013.jpg\")\n",
    "plt.imshow(malignant_sample)\n",
    "plt.suptitle('Echantillon malin', fontsize=16, weight='bold');"
   ]
  },
  {
   "cell_type": "markdown",
   "id": "ced8c3bb",
   "metadata": {},
   "source": [
    "## AUGMENTATION DES DONNEES DU MODEL SUR LE NOMBRE TOTAL D'IMAGES MALINES ET BENINES EN VU DE DECTECTER LE DESEQUILIBRE DE DONNÉES."
   ]
  },
  {
   "cell_type": "code",
   "execution_count": null,
   "id": "cd62cfe0",
   "metadata": {
    "tags": []
   },
   "outputs": [],
   "source": [
    "train_datagen = ImageDataGenerator(rescale = 1./255,\n",
    "                                   zoom_range = 0.2,\n",
    "                                   rotation_range=15,\n",
    "                                   horizontal_flip = True)\n",
    "\n",
    "test_datagen = ImageDataGenerator(rescale = 1./255)\n",
    "\n",
    "training_set = train_datagen.flow_from_directory(train_path,\n",
    "                                                 target_size = (150, 150),\n",
    "                                                 batch_size = 16,\n",
    "                                                 class_mode = 'binary',\n",
    "                                                 shuffle=True)\n",
    "\n",
    "test_set = test_datagen.flow_from_directory(test_path,\n",
    "                                            target_size = (150, 150),\n",
    "                                            batch_size = 16,\n",
    "                                            class_mode = 'binary',\n",
    "                                            shuffle = False)"
   ]
  },
  {
   "cell_type": "markdown",
   "id": "6d80fc3a",
   "metadata": {},
   "source": [
    "## CONSTRUCTION DU RESEAU DE NEURONES EN APPLICANT LA FONCTION D'ACTIVATION. "
   ]
  },
  {
   "cell_type": "code",
   "execution_count": null,
   "id": "828cd417",
   "metadata": {
    "tags": []
   },
   "outputs": [],
   "source": [
    "image_size = (150,150,3)\n",
    "\n",
    "model = Sequential()\n",
    "model.add(Conv2D(64,(3,3),activation = \"relu\", input_shape = image_size))\n",
    "model.add(MaxPool2D())\n",
    "\n",
    "model.add(Conv2D( 128, (3,3), activation = \"relu\"))\n",
    "model.add(MaxPool2D())\n",
    "model.add(Dropout(0.2))\n",
    "\n",
    "model.add(Conv2D( 256,(3,3), activation = \"relu\"))\n",
    "model.add(MaxPool2D())\n",
    "model.add(Dropout(0.2))\n",
    "\n",
    "model.add(Conv2D( 512,(3,3), activation = \"relu\"))\n",
    "model.add(MaxPool2D())\n",
    "model.add(Dropout(0.2))\n",
    "\n",
    "\n",
    "model.add(Flatten())\n",
    "model.add(Dense(128, activation = \"relu\"))\n",
    "model.add(Dropout(0.15))\n",
    "\n",
    "model.add(Dense(1, activation = \"sigmoid\"))\n",
    "\n",
    "\n",
    "model.compile(loss = \"binary_crossentropy\", optimizer = 'adam', metrics = [\"accuracy\"])\n",
    "model.summary()"
   ]
  },
  {
   "cell_type": "markdown",
   "id": "e58eefcd",
   "metadata": {},
   "source": [
    "## AJUSTEMENT DE DONNEES D'ENTRAINEMENT, TEST ET VALIDATION POUR NOTRE MODEL CNN.  "
   ]
  },
  {
   "cell_type": "code",
   "execution_count": null,
   "id": "abc1ecd8",
   "metadata": {
    "tags": []
   },
   "outputs": [],
   "source": [
    "history = model.fit(training_set, validation_data=test_set,steps_per_epoch=150,epochs=122)"
   ]
  },
  {
   "cell_type": "code",
   "execution_count": null,
   "id": "ce06289b",
   "metadata": {
    "tags": []
   },
   "outputs": [],
   "source": [
    "history = model.fit(training_set, validation_data=test_set,steps_per_epoch=10,epochs=5)"
   ]
  },
  {
   "cell_type": "markdown",
   "id": "57bcb85b",
   "metadata": {},
   "source": [
    "## AFFICHAGE ET VALIDATION DE LA PRECISION D'APPRENTISSAGE DE NOTRE MODEL SUR LES DONNEES D'ENTRAINEMENT."
   ]
  },
  {
   "cell_type": "code",
   "execution_count": null,
   "id": "3d3c6bfe",
   "metadata": {
    "tags": []
   },
   "outputs": [],
   "source": [
    "print(\"training_accuracy\", history.history['accuracy'][-1])\n",
    "print(\"validation_accuracy\", history.history['val_accuracy'][-1])"
   ]
  },
  {
   "cell_type": "markdown",
   "id": "78f759b2",
   "metadata": {},
   "source": [
    "## AFFICHAGE DES PERTES DE DONNEES ET DE LA PRECISION."
   ]
  },
  {
   "cell_type": "code",
   "execution_count": null,
   "id": "653c37f8",
   "metadata": {
    "tags": []
   },
   "outputs": [],
   "source": [
    "losses = pd.DataFrame(history.history)\n",
    "losses.head()\n",
    "losses[['loss','val_loss']].plot() \n",
    "losses[['accuracy','val_accuracy']].plot() \n",
    "losses.plot()"
   ]
  },
  {
   "cell_type": "markdown",
   "id": "43d8af9a",
   "metadata": {},
   "source": [
    "## ENREGISTREMENT DE NOTRE MODEL DE CNN POUR SON UTILISATION (DEPLOIEMENT). "
   ]
  },
  {
   "cell_type": "code",
   "execution_count": null,
   "id": "e881b5ff",
   "metadata": {
    "tags": []
   },
   "outputs": [],
   "source": [
    "model.save('CancerPeau_model.h5')"
   ]
  },
  {
   "cell_type": "code",
   "execution_count": null,
   "id": "fed1b5fe",
   "metadata": {
    "tags": []
   },
   "outputs": [],
   "source": [
    "dmodel=load_model(\"CancerPeau_model.h5\")"
   ]
  },
  {
   "cell_type": "code",
   "execution_count": null,
   "id": "8081c6c7",
   "metadata": {
    "tags": []
   },
   "outputs": [],
   "source": [
    "class_dict = {0:'benin',\n",
    "              1:'malin'}"
   ]
  },
  {
   "cell_type": "markdown",
   "id": "dabf74a1",
   "metadata": {},
   "source": [
    "##  MODULE DE PREDICTION A PARTIR DE DONNEES TEST. "
   ]
  },
  {
   "cell_type": "code",
   "execution_count": null,
   "id": "c57318dc",
   "metadata": {
    "tags": []
   },
   "outputs": [],
   "source": [
    "file_path =  '/entrainement/malin/melanoma_5013.jpg'\n",
    "test_image = cv2.imread(data_path + file_path)\n",
    "test_image=Image.open(data_path + file_path)\n",
    "test_image=test_image.resize((150,150))\n",
    "plt.subplot(1,2,1)\n",
    "plt.imshow(test_image)\n",
    "\n",
    "test_image = np.expand_dims(test_image,axis=0)\n",
    "probs = model.predict(test_image)\n",
    "pred_class = np.argmax(probs)\n",
    "d_loss=pred_class\n",
    "pred_class = class_dict[pred_class]\n",
    "\n",
    "print('prediction: ',pred_class,d_loss)\n",
    "plt.subplot(1,2,2)\n",
    "plt.scatter(test_image,test_image,c='yellow',edgecolor='k')\n"
   ]
  }
 ],
 "metadata": {
  "kernelspec": {
   "display_name": "Python 3 (ipykernel)",
   "language": "python",
   "name": "python3"
  },
  "language_info": {
   "codemirror_mode": {
    "name": "ipython",
    "version": 3
   },
   "file_extension": ".py",
   "mimetype": "text/x-python",
   "name": "python",
   "nbconvert_exporter": "python",
   "pygments_lexer": "ipython3",
   "version": "3.9.13"
  },
  "toc-autonumbering": true,
  "toc-showcode": true,
  "toc-showmarkdowntxt": true,
  "toc-showtags": false
 },
 "nbformat": 4,
 "nbformat_minor": 5
}
